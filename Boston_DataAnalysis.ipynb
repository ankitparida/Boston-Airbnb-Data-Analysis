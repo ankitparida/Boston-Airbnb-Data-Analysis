{
 "cells": [
  {
   "cell_type": "code",
   "execution_count": 333,
   "id": "b71c5ea6",
   "metadata": {},
   "outputs": [],
   "source": [
    "#Importing the Required Libraries\n",
    "import numpy as np\n",
    "import pandas as pd\n",
    "import matplotlib.pyplot as plt\n",
    "import seaborn as sns\n",
    "import warnings\n",
    "warnings.simplefilter(action='ignore', category=FutureWarning)\n",
    "from pandas.core.common import SettingWithCopyWarning\n",
    "warnings.simplefilter(action=\"ignore\", category=SettingWithCopyWarning)\n",
    "from sklearn.model_selection import train_test_split\n",
    "from sklearn.linear_model import LinearRegression\n",
    "from sklearn.metrics import explained_variance_score, mean_squared_error, r2_score\n",
    "from sklearn import preprocessing\n",
    "from sklearn.ensemble import RandomForestRegressor\n",
    "from sklearn.neighbors import KNeighborsRegressor"
   ]
  },
  {
   "cell_type": "markdown",
   "id": "9435232f",
   "metadata": {},
   "source": [
    "# EXPLORATORY DATA ANALYSIS"
   ]
  },
  {
   "cell_type": "code",
   "execution_count": 337,
   "id": "d44b9454",
   "metadata": {},
   "outputs": [],
   "source": [
    "#Exploring the Boston Datasets\n",
    "boston_calender=pd.read_csv('calendar.csv')\n",
    "boston_listings=pd.read_csv('listings.csv')\n",
    "boston_reviews=pd.read_csv('reviews.csv')"
   ]
  },
  {
   "cell_type": "code",
   "execution_count": 306,
   "id": "9ef5991c",
   "metadata": {},
   "outputs": [
    {
     "data": {
      "text/html": [
       "<div>\n",
       "<style scoped>\n",
       "    .dataframe tbody tr th:only-of-type {\n",
       "        vertical-align: middle;\n",
       "    }\n",
       "\n",
       "    .dataframe tbody tr th {\n",
       "        vertical-align: top;\n",
       "    }\n",
       "\n",
       "    .dataframe thead th {\n",
       "        text-align: right;\n",
       "    }\n",
       "</style>\n",
       "<table border=\"1\" class=\"dataframe\">\n",
       "  <thead>\n",
       "    <tr style=\"text-align: right;\">\n",
       "      <th></th>\n",
       "      <th>listing_id</th>\n",
       "      <th>date</th>\n",
       "      <th>available</th>\n",
       "      <th>price</th>\n",
       "    </tr>\n",
       "  </thead>\n",
       "  <tbody>\n",
       "    <tr>\n",
       "      <th>0</th>\n",
       "      <td>12147973</td>\n",
       "      <td>2017-09-05</td>\n",
       "      <td>f</td>\n",
       "      <td>NaN</td>\n",
       "    </tr>\n",
       "    <tr>\n",
       "      <th>1</th>\n",
       "      <td>12147973</td>\n",
       "      <td>2017-09-04</td>\n",
       "      <td>f</td>\n",
       "      <td>NaN</td>\n",
       "    </tr>\n",
       "    <tr>\n",
       "      <th>2</th>\n",
       "      <td>12147973</td>\n",
       "      <td>2017-09-03</td>\n",
       "      <td>f</td>\n",
       "      <td>NaN</td>\n",
       "    </tr>\n",
       "    <tr>\n",
       "      <th>3</th>\n",
       "      <td>12147973</td>\n",
       "      <td>2017-09-02</td>\n",
       "      <td>f</td>\n",
       "      <td>NaN</td>\n",
       "    </tr>\n",
       "    <tr>\n",
       "      <th>4</th>\n",
       "      <td>12147973</td>\n",
       "      <td>2017-09-01</td>\n",
       "      <td>f</td>\n",
       "      <td>NaN</td>\n",
       "    </tr>\n",
       "  </tbody>\n",
       "</table>\n",
       "</div>"
      ],
      "text/plain": [
       "   listing_id        date available price\n",
       "0    12147973  2017-09-05         f   NaN\n",
       "1    12147973  2017-09-04         f   NaN\n",
       "2    12147973  2017-09-03         f   NaN\n",
       "3    12147973  2017-09-02         f   NaN\n",
       "4    12147973  2017-09-01         f   NaN"
      ]
     },
     "execution_count": 306,
     "metadata": {},
     "output_type": "execute_result"
    }
   ],
   "source": [
    "boston_calender.head()"
   ]
  },
  {
   "cell_type": "code",
   "execution_count": 307,
   "id": "a43b7c7f",
   "metadata": {},
   "outputs": [],
   "source": [
    "#1.Room Availability (Month Wise)\n",
    "\n",
    "#Data Preprocessing\n",
    "#Removing the Duplicate Rows\n",
    "boston_calender=boston_calender.drop_duplicates()\n",
    "#Converting the datatype Date column into date format \n",
    "boston_calender['date']=pd.to_datetime(boston_calender['date'])"
   ]
  },
  {
   "cell_type": "code",
   "execution_count": 308,
   "id": "304bd0e6",
   "metadata": {},
   "outputs": [],
   "source": [
    "#Converting the Available Column into boolean type\n",
    "#t --> True\n",
    "#f --> False\n",
    "boston_calender['available']=boston_calender['available'].replace(to_replace='t',value=True)\n",
    "boston_calender['available']=boston_calender['available'].replace(to_replace='f',value=False)"
   ]
  },
  {
   "cell_type": "code",
   "execution_count": 309,
   "id": "1c99c2c3",
   "metadata": {},
   "outputs": [],
   "source": [
    "#Month Wise Availability\n",
    "#Separating the Dataset based on availability\n",
    "boston_calender_available=boston_calender[boston_calender['available']==True]\n",
    "boston_calender_not_available=boston_calender[boston_calender['available']==False]"
   ]
  },
  {
   "cell_type": "code",
   "execution_count": 310,
   "id": "31ef88e8",
   "metadata": {},
   "outputs": [
    {
     "data": {
      "text/html": [
       "<div>\n",
       "<style scoped>\n",
       "    .dataframe tbody tr th:only-of-type {\n",
       "        vertical-align: middle;\n",
       "    }\n",
       "\n",
       "    .dataframe tbody tr th {\n",
       "        vertical-align: top;\n",
       "    }\n",
       "\n",
       "    .dataframe thead th {\n",
       "        text-align: right;\n",
       "    }\n",
       "</style>\n",
       "<table border=\"1\" class=\"dataframe\">\n",
       "  <thead>\n",
       "    <tr style=\"text-align: right;\">\n",
       "      <th></th>\n",
       "      <th>listing_id</th>\n",
       "      <th>date</th>\n",
       "      <th>available</th>\n",
       "      <th>price</th>\n",
       "    </tr>\n",
       "  </thead>\n",
       "  <tbody>\n",
       "    <tr>\n",
       "      <th>365</th>\n",
       "      <td>3075044</td>\n",
       "      <td>2017-08-22</td>\n",
       "      <td>True</td>\n",
       "      <td>$65.00</td>\n",
       "    </tr>\n",
       "    <tr>\n",
       "      <th>366</th>\n",
       "      <td>3075044</td>\n",
       "      <td>2017-08-21</td>\n",
       "      <td>True</td>\n",
       "      <td>$65.00</td>\n",
       "    </tr>\n",
       "    <tr>\n",
       "      <th>367</th>\n",
       "      <td>3075044</td>\n",
       "      <td>2017-08-20</td>\n",
       "      <td>True</td>\n",
       "      <td>$65.00</td>\n",
       "    </tr>\n",
       "    <tr>\n",
       "      <th>368</th>\n",
       "      <td>3075044</td>\n",
       "      <td>2017-08-19</td>\n",
       "      <td>True</td>\n",
       "      <td>$75.00</td>\n",
       "    </tr>\n",
       "    <tr>\n",
       "      <th>369</th>\n",
       "      <td>3075044</td>\n",
       "      <td>2017-08-18</td>\n",
       "      <td>True</td>\n",
       "      <td>$75.00</td>\n",
       "    </tr>\n",
       "  </tbody>\n",
       "</table>\n",
       "</div>"
      ],
      "text/plain": [
       "     listing_id       date  available   price\n",
       "365     3075044 2017-08-22       True  $65.00\n",
       "366     3075044 2017-08-21       True  $65.00\n",
       "367     3075044 2017-08-20       True  $65.00\n",
       "368     3075044 2017-08-19       True  $75.00\n",
       "369     3075044 2017-08-18       True  $75.00"
      ]
     },
     "execution_count": 310,
     "metadata": {},
     "output_type": "execute_result"
    }
   ],
   "source": [
    "boston_calender_available.head()"
   ]
  },
  {
   "cell_type": "code",
   "execution_count": 311,
   "id": "a52c51be",
   "metadata": {},
   "outputs": [
    {
     "data": {
      "text/html": [
       "<div>\n",
       "<style scoped>\n",
       "    .dataframe tbody tr th:only-of-type {\n",
       "        vertical-align: middle;\n",
       "    }\n",
       "\n",
       "    .dataframe tbody tr th {\n",
       "        vertical-align: top;\n",
       "    }\n",
       "\n",
       "    .dataframe thead th {\n",
       "        text-align: right;\n",
       "    }\n",
       "</style>\n",
       "<table border=\"1\" class=\"dataframe\">\n",
       "  <thead>\n",
       "    <tr style=\"text-align: right;\">\n",
       "      <th></th>\n",
       "      <th>listing_id</th>\n",
       "      <th>date</th>\n",
       "      <th>available</th>\n",
       "      <th>price</th>\n",
       "    </tr>\n",
       "  </thead>\n",
       "  <tbody>\n",
       "    <tr>\n",
       "      <th>0</th>\n",
       "      <td>12147973</td>\n",
       "      <td>2017-09-05</td>\n",
       "      <td>False</td>\n",
       "      <td>NaN</td>\n",
       "    </tr>\n",
       "    <tr>\n",
       "      <th>1</th>\n",
       "      <td>12147973</td>\n",
       "      <td>2017-09-04</td>\n",
       "      <td>False</td>\n",
       "      <td>NaN</td>\n",
       "    </tr>\n",
       "    <tr>\n",
       "      <th>2</th>\n",
       "      <td>12147973</td>\n",
       "      <td>2017-09-03</td>\n",
       "      <td>False</td>\n",
       "      <td>NaN</td>\n",
       "    </tr>\n",
       "    <tr>\n",
       "      <th>3</th>\n",
       "      <td>12147973</td>\n",
       "      <td>2017-09-02</td>\n",
       "      <td>False</td>\n",
       "      <td>NaN</td>\n",
       "    </tr>\n",
       "    <tr>\n",
       "      <th>4</th>\n",
       "      <td>12147973</td>\n",
       "      <td>2017-09-01</td>\n",
       "      <td>False</td>\n",
       "      <td>NaN</td>\n",
       "    </tr>\n",
       "  </tbody>\n",
       "</table>\n",
       "</div>"
      ],
      "text/plain": [
       "   listing_id       date  available price\n",
       "0    12147973 2017-09-05      False   NaN\n",
       "1    12147973 2017-09-04      False   NaN\n",
       "2    12147973 2017-09-03      False   NaN\n",
       "3    12147973 2017-09-02      False   NaN\n",
       "4    12147973 2017-09-01      False   NaN"
      ]
     },
     "execution_count": 311,
     "metadata": {},
     "output_type": "execute_result"
    }
   ],
   "source": [
    "boston_calender_not_available.head()"
   ]
  },
  {
   "cell_type": "code",
   "execution_count": 312,
   "id": "18296723",
   "metadata": {},
   "outputs": [
    {
     "data": {
      "text/plain": [
       "<AxesSubplot:title={'center':'Date vs Availability'}, xlabel='Months', ylabel='Availability Count'>"
      ]
     },
     "execution_count": 312,
     "metadata": {},
     "output_type": "execute_result"
    },
    {
     "data": {
      "image/png": "[encoded data removed]",
      "text/plain": [
       "<Figure size 432x288 with 1 Axes>"
      ]
     },
     "metadata": {
      "needs_background": "light"
     },
     "output_type": "display_data"
    }
   ],
   "source": [
    "#Month Wise Availability\n",
    "boston_calender_available.groupby(boston_calender_available['date'].dt.strftime('%B'))['available'].count().sort_values().plot(kind='bar',ylabel='Availability Count',xlabel='Months',title='Date vs Availability')"
   ]
  },
  {
   "cell_type": "code",
   "execution_count": 313,
   "id": "46faf968",
   "metadata": {},
   "outputs": [
    {
     "data": {
      "text/plain": [
       "<AxesSubplot:title={'center':'Date vs Non-Availability'}, xlabel='Months', ylabel='Non-Availability Count'>"
      ]
     },
     "execution_count": 313,
     "metadata": {},
     "output_type": "execute_result"
    },
    {
     "data": {
      "image/png": "[encoded data removed]",
      "text/plain": [
       "<Figure size 432x288 with 1 Axes>"
      ]
     },
     "metadata": {
      "needs_background": "light"
     },
     "output_type": "display_data"
    }
   ],
   "source": [
    "#Month Wise Availability\n",
    "boston_calender_not_available.groupby(boston_calender_not_available['date'].dt.strftime('%B'))['available'].count().sort_values().plot(kind='bar',ylabel='Non-Availability Count',xlabel='Months',title='Date vs Non-Availability')"
   ]
  },
  {
   "cell_type": "markdown",
   "id": "96c67617",
   "metadata": {},
   "source": [
    "**Question1: Which time of the year is the peak tourist season?**\n",
    "\n",
    "**CONCLUSION:**\n",
    "\n",
    "_From the above barplot we can see that the month of October and September are the peak tourist season._"
   ]
  },
  {
   "cell_type": "code",
   "execution_count": 314,
   "id": "9479420a",
   "metadata": {},
   "outputs": [
    {
     "data": {
      "text/html": [
       "<div>\n",
       "<style scoped>\n",
       "    .dataframe tbody tr th:only-of-type {\n",
       "        vertical-align: middle;\n",
       "    }\n",
       "\n",
       "    .dataframe tbody tr th {\n",
       "        vertical-align: top;\n",
       "    }\n",
       "\n",
       "    .dataframe thead th {\n",
       "        text-align: right;\n",
       "    }\n",
       "</style>\n",
       "<table border=\"1\" class=\"dataframe\">\n",
       "  <thead>\n",
       "    <tr style=\"text-align: right;\">\n",
       "      <th></th>\n",
       "      <th>id</th>\n",
       "      <th>listing_url</th>\n",
       "      <th>scrape_id</th>\n",
       "      <th>last_scraped</th>\n",
       "      <th>name</th>\n",
       "      <th>summary</th>\n",
       "      <th>space</th>\n",
       "      <th>description</th>\n",
       "      <th>experiences_offered</th>\n",
       "      <th>neighborhood_overview</th>\n",
       "      <th>...</th>\n",
       "      <th>review_scores_value</th>\n",
       "      <th>requires_license</th>\n",
       "      <th>license</th>\n",
       "      <th>jurisdiction_names</th>\n",
       "      <th>instant_bookable</th>\n",
       "      <th>cancellation_policy</th>\n",
       "      <th>require_guest_profile_picture</th>\n",
       "      <th>require_guest_phone_verification</th>\n",
       "      <th>calculated_host_listings_count</th>\n",
       "      <th>reviews_per_month</th>\n",
       "    </tr>\n",
       "  </thead>\n",
       "  <tbody>\n",
       "    <tr>\n",
       "      <th>0</th>\n",
       "      <td>12147973</td>\n",
       "      <td>https://www.airbnb.com/rooms/12147973</td>\n",
       "      <td>20160906204935</td>\n",
       "      <td>2016-09-07</td>\n",
       "      <td>Sunny Bungalow in the City</td>\n",
       "      <td>Cozy, sunny, family home.  Master bedroom high...</td>\n",
       "      <td>The house has an open and cozy feel at the sam...</td>\n",
       "      <td>Cozy, sunny, family home.  Master bedroom high...</td>\n",
       "      <td>none</td>\n",
       "      <td>Roslindale is quiet, convenient and friendly. ...</td>\n",
       "      <td>...</td>\n",
       "      <td>NaN</td>\n",
       "      <td>f</td>\n",
       "      <td>NaN</td>\n",
       "      <td>NaN</td>\n",
       "      <td>f</td>\n",
       "      <td>moderate</td>\n",
       "      <td>f</td>\n",
       "      <td>f</td>\n",
       "      <td>1</td>\n",
       "      <td>NaN</td>\n",
       "    </tr>\n",
       "    <tr>\n",
       "      <th>1</th>\n",
       "      <td>3075044</td>\n",
       "      <td>https://www.airbnb.com/rooms/3075044</td>\n",
       "      <td>20160906204935</td>\n",
       "      <td>2016-09-07</td>\n",
       "      <td>Charming room in pet friendly apt</td>\n",
       "      <td>Charming and quiet room in a second floor 1910...</td>\n",
       "      <td>Small but cozy and quite room with a full size...</td>\n",
       "      <td>Charming and quiet room in a second floor 1910...</td>\n",
       "      <td>none</td>\n",
       "      <td>The room is in Roslindale, a diverse and prima...</td>\n",
       "      <td>...</td>\n",
       "      <td>9.0</td>\n",
       "      <td>f</td>\n",
       "      <td>NaN</td>\n",
       "      <td>NaN</td>\n",
       "      <td>t</td>\n",
       "      <td>moderate</td>\n",
       "      <td>f</td>\n",
       "      <td>f</td>\n",
       "      <td>1</td>\n",
       "      <td>1.30</td>\n",
       "    </tr>\n",
       "    <tr>\n",
       "      <th>2</th>\n",
       "      <td>6976</td>\n",
       "      <td>https://www.airbnb.com/rooms/6976</td>\n",
       "      <td>20160906204935</td>\n",
       "      <td>2016-09-07</td>\n",
       "      <td>Mexican Folk Art Haven in Boston</td>\n",
       "      <td>Come stay with a friendly, middle-aged guy in ...</td>\n",
       "      <td>Come stay with a friendly, middle-aged guy in ...</td>\n",
       "      <td>Come stay with a friendly, middle-aged guy in ...</td>\n",
       "      <td>none</td>\n",
       "      <td>The LOCATION: Roslindale is a safe and diverse...</td>\n",
       "      <td>...</td>\n",
       "      <td>10.0</td>\n",
       "      <td>f</td>\n",
       "      <td>NaN</td>\n",
       "      <td>NaN</td>\n",
       "      <td>f</td>\n",
       "      <td>moderate</td>\n",
       "      <td>t</td>\n",
       "      <td>f</td>\n",
       "      <td>1</td>\n",
       "      <td>0.47</td>\n",
       "    </tr>\n",
       "    <tr>\n",
       "      <th>3</th>\n",
       "      <td>1436513</td>\n",
       "      <td>https://www.airbnb.com/rooms/1436513</td>\n",
       "      <td>20160906204935</td>\n",
       "      <td>2016-09-07</td>\n",
       "      <td>Spacious Sunny Bedroom Suite in Historic Home</td>\n",
       "      <td>Come experience the comforts of home away from...</td>\n",
       "      <td>Most places you find in Boston are small howev...</td>\n",
       "      <td>Come experience the comforts of home away from...</td>\n",
       "      <td>none</td>\n",
       "      <td>Roslindale is a lovely little neighborhood loc...</td>\n",
       "      <td>...</td>\n",
       "      <td>10.0</td>\n",
       "      <td>f</td>\n",
       "      <td>NaN</td>\n",
       "      <td>NaN</td>\n",
       "      <td>f</td>\n",
       "      <td>moderate</td>\n",
       "      <td>f</td>\n",
       "      <td>f</td>\n",
       "      <td>1</td>\n",
       "      <td>1.00</td>\n",
       "    </tr>\n",
       "    <tr>\n",
       "      <th>4</th>\n",
       "      <td>7651065</td>\n",
       "      <td>https://www.airbnb.com/rooms/7651065</td>\n",
       "      <td>20160906204935</td>\n",
       "      <td>2016-09-07</td>\n",
       "      <td>Come Home to Boston</td>\n",
       "      <td>My comfy, clean and relaxing home is one block...</td>\n",
       "      <td>Clean, attractive, private room, one block fro...</td>\n",
       "      <td>My comfy, clean and relaxing home is one block...</td>\n",
       "      <td>none</td>\n",
       "      <td>I love the proximity to downtown, the neighbor...</td>\n",
       "      <td>...</td>\n",
       "      <td>10.0</td>\n",
       "      <td>f</td>\n",
       "      <td>NaN</td>\n",
       "      <td>NaN</td>\n",
       "      <td>f</td>\n",
       "      <td>flexible</td>\n",
       "      <td>f</td>\n",
       "      <td>f</td>\n",
       "      <td>1</td>\n",
       "      <td>2.25</td>\n",
       "    </tr>\n",
       "  </tbody>\n",
       "</table>\n",
       "<p>5 rows × 95 columns</p>\n",
       "</div>"
      ],
      "text/plain": [
       "         id                            listing_url       scrape_id  \\\n",
       "0  12147973  https://www.airbnb.com/rooms/12147973  20160906204935   \n",
       "1   3075044   https://www.airbnb.com/rooms/3075044  20160906204935   \n",
       "2      6976      https://www.airbnb.com/rooms/6976  20160906204935   \n",
       "3   1436513   https://www.airbnb.com/rooms/1436513  20160906204935   \n",
       "4   7651065   https://www.airbnb.com/rooms/7651065  20160906204935   \n",
       "\n",
       "  last_scraped                                           name  \\\n",
       "0   2016-09-07                     Sunny Bungalow in the City   \n",
       "1   2016-09-07              Charming room in pet friendly apt   \n",
       "2   2016-09-07               Mexican Folk Art Haven in Boston   \n",
       "3   2016-09-07  Spacious Sunny Bedroom Suite in Historic Home   \n",
       "4   2016-09-07                            Come Home to Boston   \n",
       "\n",
       "                                             summary  \\\n",
       "0  Cozy, sunny, family home.  Master bedroom high...   \n",
       "1  Charming and quiet room in a second floor 1910...   \n",
       "2  Come stay with a friendly, middle-aged guy in ...   \n",
       "3  Come experience the comforts of home away from...   \n",
       "4  My comfy, clean and relaxing home is one block...   \n",
       "\n",
       "                                               space  \\\n",
       "0  The house has an open and cozy feel at the sam...   \n",
       "1  Small but cozy and quite room with a full size...   \n",
       "2  Come stay with a friendly, middle-aged guy in ...   \n",
       "3  Most places you find in Boston are small howev...   \n",
       "4  Clean, attractive, private room, one block fro...   \n",
       "\n",
       "                                         description experiences_offered  \\\n",
       "0  Cozy, sunny, family home.  Master bedroom high...                none   \n",
       "1  Charming and quiet room in a second floor 1910...                none   \n",
       "2  Come stay with a friendly, middle-aged guy in ...                none   \n",
       "3  Come experience the comforts of home away from...                none   \n",
       "4  My comfy, clean and relaxing home is one block...                none   \n",
       "\n",
       "                               neighborhood_overview  ... review_scores_value  \\\n",
       "0  Roslindale is quiet, convenient and friendly. ...  ...                 NaN   \n",
       "1  The room is in Roslindale, a diverse and prima...  ...                 9.0   \n",
       "2  The LOCATION: Roslindale is a safe and diverse...  ...                10.0   \n",
       "3  Roslindale is a lovely little neighborhood loc...  ...                10.0   \n",
       "4  I love the proximity to downtown, the neighbor...  ...                10.0   \n",
       "\n",
       "  requires_license license jurisdiction_names instant_bookable  \\\n",
       "0                f     NaN                NaN                f   \n",
       "1                f     NaN                NaN                t   \n",
       "2                f     NaN                NaN                f   \n",
       "3                f     NaN                NaN                f   \n",
       "4                f     NaN                NaN                f   \n",
       "\n",
       "  cancellation_policy require_guest_profile_picture  \\\n",
       "0            moderate                             f   \n",
       "1            moderate                             f   \n",
       "2            moderate                             t   \n",
       "3            moderate                             f   \n",
       "4            flexible                             f   \n",
       "\n",
       "  require_guest_phone_verification calculated_host_listings_count  \\\n",
       "0                                f                              1   \n",
       "1                                f                              1   \n",
       "2                                f                              1   \n",
       "3                                f                              1   \n",
       "4                                f                              1   \n",
       "\n",
       "   reviews_per_month  \n",
       "0                NaN  \n",
       "1               1.30  \n",
       "2               0.47  \n",
       "3               1.00  \n",
       "4               2.25  \n",
       "\n",
       "[5 rows x 95 columns]"
      ]
     },
     "execution_count": 314,
     "metadata": {},
     "output_type": "execute_result"
    }
   ],
   "source": [
    "#Question2: How price of a room is corelated with other attributes?\n",
    "boston_listings.head()"
   ]
  },
  {
   "cell_type": "code",
   "execution_count": 315,
   "id": "4386b7d1",
   "metadata": {},
   "outputs": [
    {
     "data": {
      "text/plain": [
       "has_availability                3585\n",
       "license                         3585\n",
       "neighbourhood_group_cleansed    3585\n",
       "jurisdiction_names              3585\n",
       "square_feet                     3529\n",
       "                                ... \n",
       "is_location_exact                  0\n",
       "room_type                          0\n",
       "accommodates                       0\n",
       "bed_type                           0\n",
       "country                            0\n",
       "Length: 95, dtype: int64"
      ]
     },
     "execution_count": 315,
     "metadata": {},
     "output_type": "execute_result"
    }
   ],
   "source": [
    "#Preprocessing\n",
    "#Counting the NA Values (Column Wise)\n",
    "boston_listings.isna().sum().sort_values(ascending=False)\n"
   ]
  },
  {
   "cell_type": "code",
   "execution_count": 342,
   "id": "2497f00a",
   "metadata": {},
   "outputs": [],
   "source": [
    "def price_cleansing(dataframe,col):\n",
    "    \"\"\"\n",
    "    Function which will remove the Dollar Sign & Typecasting the Price Column into Floating Type\n",
    "    \n",
    "    Parameters:\n",
    "    dataframe:  DataFrame containing the price attribute\n",
    "    cols: Column containing the Price Values\n",
    "    `\n",
    "    Returns:\n",
    "    dataframe:Returns a dataframe with price column transformer to floating type\n",
    "    \"\"\"\n",
    "    agg_val=[]\n",
    "    for val in dataframe[col]:\n",
    "        agg_val.append(float(val[1:].replace(',','')))\n",
    "    dataframe[col]=agg_val\n",
    "    return dataframe"
   ]
  },
  {
   "cell_type": "code",
   "execution_count": 343,
   "id": "a07c2d61",
   "metadata": {},
   "outputs": [
    {
     "name": "stdout",
     "output_type": "stream",
     "text": [
      "Help on function price_cleansing in module __main__:\n",
      "\n",
      "price_cleansing(dataframe, col)\n",
      "    Function which will remove the Dollar Sign & Typecasting the Price Column into Floating Type\n",
      "    \n",
      "    Parameters:\n",
      "    dataframe:  DataFrame containing the price attribute\n",
      "    cols: Column containing the Price Values\n",
      "    `\n",
      "    Returns:\n",
      "    dataframe:Returns a dataframe with price column transformer to floating type\n",
      "\n"
     ]
    }
   ],
   "source": [
    "help(price_cleansing)"
   ]
  },
  {
   "cell_type": "code",
   "execution_count": 338,
   "id": "666c00df",
   "metadata": {},
   "outputs": [
    {
     "data": {
      "text/plain": [
       "0    250.0\n",
       "1     65.0\n",
       "2     65.0\n",
       "3     75.0\n",
       "4     79.0\n",
       "Name: price, dtype: float64"
      ]
     },
     "execution_count": 338,
     "metadata": {},
     "output_type": "execute_result"
    }
   ],
   "source": [
    "#Calling the price_cleansing function to transform the Price column\n",
    "boston_listings=price_cleansing(boston_listings,'price')\n",
    "#Checking whether the values are correct or not\n",
    "boston_listings['price'].head()"
   ]
  },
  {
   "cell_type": "code",
   "execution_count": 331,
   "id": "d842e02d",
   "metadata": {},
   "outputs": [
    {
     "data": {
      "text/plain": [
       "square_feet        0.447795\n",
       "accommodates       0.437756\n",
       "bedrooms           0.385298\n",
       "beds               0.370013\n",
       "bathrooms          0.248234\n",
       "guests_included    0.211806\n",
       "Name: price, dtype: float64"
      ]
     },
     "execution_count": 331,
     "metadata": {},
     "output_type": "execute_result"
    }
   ],
   "source": [
    "#Finding the correlation values between price and other attributes using corr() \n",
    "boston_listings.corr()['price'].sort_values(ascending=False)[1:].head(6)"
   ]
  },
  {
   "cell_type": "code",
   "execution_count": 332,
   "id": "3b47a522",
   "metadata": {},
   "outputs": [
    {
     "data": {
      "text/plain": [
       "square_feet        3529\n",
       "accommodates          0\n",
       "bedrooms             10\n",
       "beds                  9\n",
       "bathrooms            14\n",
       "guests_included       0\n",
       "dtype: int64"
      ]
     },
     "execution_count": 332,
     "metadata": {},
     "output_type": "execute_result"
    }
   ],
   "source": [
    "boston_listings[['square_feet','accommodates','bedrooms','beds','bathrooms','guests_included']].isna().sum()"
   ]
  },
  {
   "cell_type": "markdown",
   "id": "98d5df28",
   "metadata": {},
   "source": [
    "_It seems there were multiple NA values in square_feet attributes because of which we cannot consider this for further Analysis_"
   ]
  },
  {
   "cell_type": "code",
   "execution_count": 339,
   "id": "cf499aa9",
   "metadata": {},
   "outputs": [
    {
     "data": {
      "text/plain": [
       "<AxesSubplot:xlabel='attributes', ylabel='Correlation Value'>"
      ]
     },
     "execution_count": 339,
     "metadata": {},
     "output_type": "execute_result"
    },
    {
     "data": {
      "image/png": "[encoded data removed]",
      "text/plain": [
       "<Figure size 432x288 with 1 Axes>"
      ]
     },
     "metadata": {
      "needs_background": "light"
     },
     "output_type": "display_data"
    }
   ],
   "source": [
    "corr_value_price=boston_listings.corr()['price'].sort_values(ascending=False)[2:].head(5)\n",
    "corr_value_price.plot(kind='bar',xlabel='attributes',ylabel='Correlation Value')"
   ]
  },
  {
   "cell_type": "markdown",
   "id": "ae5089fd",
   "metadata": {},
   "source": [
    "**Question2: How price of a room is corelated with other attributes?**\n",
    "\n",
    "**CONCLUSION**:\n",
    "\n",
    "_The variables such as 'accommodates','bedrooms','beds','bathrooms','guests_included' are strongly correlated with Price\n",
    "which means these attributes strongly define the price of a airbnb property._"
   ]
  },
  {
   "cell_type": "code",
   "execution_count": 132,
   "id": "cd55dde3",
   "metadata": {},
   "outputs": [],
   "source": [
    "#Question3: Which street is most expensive?"
   ]
  },
  {
   "cell_type": "code",
   "execution_count": 340,
   "id": "8257ad1f",
   "metadata": {},
   "outputs": [
    {
     "data": {
      "text/html": [
       "<div>\n",
       "<style scoped>\n",
       "    .dataframe tbody tr th:only-of-type {\n",
       "        vertical-align: middle;\n",
       "    }\n",
       "\n",
       "    .dataframe tbody tr th {\n",
       "        vertical-align: top;\n",
       "    }\n",
       "\n",
       "    .dataframe thead th {\n",
       "        text-align: right;\n",
       "    }\n",
       "</style>\n",
       "<table border=\"1\" class=\"dataframe\">\n",
       "  <thead>\n",
       "    <tr style=\"text-align: right;\">\n",
       "      <th></th>\n",
       "      <th>id</th>\n",
       "      <th>street</th>\n",
       "      <th>city</th>\n",
       "      <th>market</th>\n",
       "      <th>price</th>\n",
       "    </tr>\n",
       "  </thead>\n",
       "  <tbody>\n",
       "    <tr>\n",
       "      <th>0</th>\n",
       "      <td>12147973</td>\n",
       "      <td>Birch Street, Boston, MA 02131, United States</td>\n",
       "      <td>Boston</td>\n",
       "      <td>Boston</td>\n",
       "      <td>250.0</td>\n",
       "    </tr>\n",
       "    <tr>\n",
       "      <th>1</th>\n",
       "      <td>3075044</td>\n",
       "      <td>Pinehurst Street, Boston, MA 02131, United States</td>\n",
       "      <td>Boston</td>\n",
       "      <td>Boston</td>\n",
       "      <td>65.0</td>\n",
       "    </tr>\n",
       "    <tr>\n",
       "      <th>2</th>\n",
       "      <td>6976</td>\n",
       "      <td>Ardale St., Boston, MA 02131, United States</td>\n",
       "      <td>Boston</td>\n",
       "      <td>Boston</td>\n",
       "      <td>65.0</td>\n",
       "    </tr>\n",
       "    <tr>\n",
       "      <th>3</th>\n",
       "      <td>1436513</td>\n",
       "      <td>Boston, MA, United States</td>\n",
       "      <td>Boston</td>\n",
       "      <td>Boston</td>\n",
       "      <td>75.0</td>\n",
       "    </tr>\n",
       "    <tr>\n",
       "      <th>4</th>\n",
       "      <td>7651065</td>\n",
       "      <td>Durnell Avenue, Boston, MA 02131, United States</td>\n",
       "      <td>Boston</td>\n",
       "      <td>Boston</td>\n",
       "      <td>79.0</td>\n",
       "    </tr>\n",
       "  </tbody>\n",
       "</table>\n",
       "</div>"
      ],
      "text/plain": [
       "         id                                             street    city  \\\n",
       "0  12147973      Birch Street, Boston, MA 02131, United States  Boston   \n",
       "1   3075044  Pinehurst Street, Boston, MA 02131, United States  Boston   \n",
       "2      6976        Ardale St., Boston, MA 02131, United States  Boston   \n",
       "3   1436513                          Boston, MA, United States  Boston   \n",
       "4   7651065    Durnell Avenue, Boston, MA 02131, United States  Boston   \n",
       "\n",
       "   market  price  \n",
       "0  Boston  250.0  \n",
       "1  Boston   65.0  \n",
       "2  Boston   65.0  \n",
       "3  Boston   75.0  \n",
       "4  Boston   79.0  "
      ]
     },
     "execution_count": 340,
     "metadata": {},
     "output_type": "execute_result"
    }
   ],
   "source": [
    "boston_listings[['id','street','city','market','price']].head()"
   ]
  },
  {
   "cell_type": "code",
   "execution_count": 348,
   "id": "d790e35d",
   "metadata": {},
   "outputs": [],
   "source": [
    "def street_cleansing(dataframe,col):\n",
    "    \"\"\"\n",
    "    Function which will split the street column and derive only the street name\n",
    "    \n",
    "    Parameters:\n",
    "    dataframe:  DataFrame containing the Street attribute\n",
    "    cols: Column containing the Street Column Values\n",
    "    `\n",
    "    Returns:\n",
    "    dataframe:Returns a dataframe with Street Column containing only the street name\n",
    "    \"\"\"\n",
    "    agg_val=[]\n",
    "    for val in dataframe[col]:\n",
    "        agg_val.append(val.split(',')[0])\n",
    "    \n",
    "    dataframe[col]=agg_val\n",
    "    return dataframe"
   ]
  },
  {
   "cell_type": "code",
   "execution_count": 349,
   "id": "205633ad",
   "metadata": {},
   "outputs": [
    {
     "name": "stdout",
     "output_type": "stream",
     "text": [
      "Help on function street_cleansing in module __main__:\n",
      "\n",
      "street_cleansing(dataframe, col)\n",
      "    Function which will split the street column and derive only the street name\n",
      "    \n",
      "    Parameters:\n",
      "    dataframe:  DataFrame containing the Street attribute\n",
      "    cols: Column containing the Street Column Values\n",
      "    `\n",
      "    Returns:\n",
      "    dataframe:Returns a dataframe with Street Column containing only the street name\n",
      "\n"
     ]
    }
   ],
   "source": [
    "help(street_cleansing)"
   ]
  },
  {
   "cell_type": "code",
   "execution_count": 350,
   "id": "30c65553",
   "metadata": {},
   "outputs": [
    {
     "data": {
      "text/html": [
       "<div>\n",
       "<style scoped>\n",
       "    .dataframe tbody tr th:only-of-type {\n",
       "        vertical-align: middle;\n",
       "    }\n",
       "\n",
       "    .dataframe tbody tr th {\n",
       "        vertical-align: top;\n",
       "    }\n",
       "\n",
       "    .dataframe thead th {\n",
       "        text-align: right;\n",
       "    }\n",
       "</style>\n",
       "<table border=\"1\" class=\"dataframe\">\n",
       "  <thead>\n",
       "    <tr style=\"text-align: right;\">\n",
       "      <th></th>\n",
       "      <th>id</th>\n",
       "      <th>street</th>\n",
       "      <th>city</th>\n",
       "      <th>market</th>\n",
       "      <th>price</th>\n",
       "    </tr>\n",
       "  </thead>\n",
       "  <tbody>\n",
       "    <tr>\n",
       "      <th>0</th>\n",
       "      <td>12147973</td>\n",
       "      <td>Birch Street</td>\n",
       "      <td>Boston</td>\n",
       "      <td>Boston</td>\n",
       "      <td>250.0</td>\n",
       "    </tr>\n",
       "    <tr>\n",
       "      <th>1</th>\n",
       "      <td>3075044</td>\n",
       "      <td>Pinehurst Street</td>\n",
       "      <td>Boston</td>\n",
       "      <td>Boston</td>\n",
       "      <td>65.0</td>\n",
       "    </tr>\n",
       "    <tr>\n",
       "      <th>2</th>\n",
       "      <td>6976</td>\n",
       "      <td>Ardale St.</td>\n",
       "      <td>Boston</td>\n",
       "      <td>Boston</td>\n",
       "      <td>65.0</td>\n",
       "    </tr>\n",
       "    <tr>\n",
       "      <th>3</th>\n",
       "      <td>1436513</td>\n",
       "      <td>Boston</td>\n",
       "      <td>Boston</td>\n",
       "      <td>Boston</td>\n",
       "      <td>75.0</td>\n",
       "    </tr>\n",
       "    <tr>\n",
       "      <th>4</th>\n",
       "      <td>7651065</td>\n",
       "      <td>Durnell Avenue</td>\n",
       "      <td>Boston</td>\n",
       "      <td>Boston</td>\n",
       "      <td>79.0</td>\n",
       "    </tr>\n",
       "  </tbody>\n",
       "</table>\n",
       "</div>"
      ],
      "text/plain": [
       "         id            street    city  market  price\n",
       "0  12147973      Birch Street  Boston  Boston  250.0\n",
       "1   3075044  Pinehurst Street  Boston  Boston   65.0\n",
       "2      6976        Ardale St.  Boston  Boston   65.0\n",
       "3   1436513            Boston  Boston  Boston   75.0\n",
       "4   7651065    Durnell Avenue  Boston  Boston   79.0"
      ]
     },
     "execution_count": 350,
     "metadata": {},
     "output_type": "execute_result"
    }
   ],
   "source": [
    "#Data Preprocessing\n",
    "#Extracting the Street Names by street cleansing function\n",
    "df=boston_listings[['id','street','city','market','price']]\n",
    "df=street_cleansing(df,'street')\n",
    "df.head()"
   ]
  },
  {
   "cell_type": "code",
   "execution_count": 351,
   "id": "6e384a70",
   "metadata": {},
   "outputs": [
    {
     "name": "stdout",
     "output_type": "stream",
     "text": [
      "The shape of the dataset is (3585, 5)\n",
      "id         0\n",
      "street     0\n",
      "city       2\n",
      "market    14\n",
      "price      0\n",
      "dtype: int64\n"
     ]
    }
   ],
   "source": [
    "#Total Row Count\n",
    "print('The shape of the dataset is',df.shape)\n",
    "#NA count\n",
    "print(df.isna().sum())"
   ]
  },
  {
   "cell_type": "code",
   "execution_count": 352,
   "id": "320fa589",
   "metadata": {},
   "outputs": [
    {
     "data": {
      "text/html": [
       "<div>\n",
       "<style scoped>\n",
       "    .dataframe tbody tr th:only-of-type {\n",
       "        vertical-align: middle;\n",
       "    }\n",
       "\n",
       "    .dataframe tbody tr th {\n",
       "        vertical-align: top;\n",
       "    }\n",
       "\n",
       "    .dataframe thead th {\n",
       "        text-align: right;\n",
       "    }\n",
       "</style>\n",
       "<table border=\"1\" class=\"dataframe\">\n",
       "  <thead>\n",
       "    <tr style=\"text-align: right;\">\n",
       "      <th></th>\n",
       "      <th>id</th>\n",
       "      <th>street</th>\n",
       "      <th>city</th>\n",
       "      <th>market</th>\n",
       "      <th>price</th>\n",
       "    </tr>\n",
       "  </thead>\n",
       "  <tbody>\n",
       "    <tr>\n",
       "      <th>0</th>\n",
       "      <td>12147973</td>\n",
       "      <td>Birch Street</td>\n",
       "      <td>Boston</td>\n",
       "      <td>Boston</td>\n",
       "      <td>250.0</td>\n",
       "    </tr>\n",
       "    <tr>\n",
       "      <th>1</th>\n",
       "      <td>3075044</td>\n",
       "      <td>Pinehurst Street</td>\n",
       "      <td>Boston</td>\n",
       "      <td>Boston</td>\n",
       "      <td>65.0</td>\n",
       "    </tr>\n",
       "    <tr>\n",
       "      <th>2</th>\n",
       "      <td>6976</td>\n",
       "      <td>Ardale St.</td>\n",
       "      <td>Boston</td>\n",
       "      <td>Boston</td>\n",
       "      <td>65.0</td>\n",
       "    </tr>\n",
       "    <tr>\n",
       "      <th>3</th>\n",
       "      <td>1436513</td>\n",
       "      <td>Boston</td>\n",
       "      <td>Boston</td>\n",
       "      <td>Boston</td>\n",
       "      <td>75.0</td>\n",
       "    </tr>\n",
       "    <tr>\n",
       "      <th>4</th>\n",
       "      <td>7651065</td>\n",
       "      <td>Durnell Avenue</td>\n",
       "      <td>Boston</td>\n",
       "      <td>Boston</td>\n",
       "      <td>79.0</td>\n",
       "    </tr>\n",
       "  </tbody>\n",
       "</table>\n",
       "</div>"
      ],
      "text/plain": [
       "         id            street    city  market  price\n",
       "0  12147973      Birch Street  Boston  Boston  250.0\n",
       "1   3075044  Pinehurst Street  Boston  Boston   65.0\n",
       "2      6976        Ardale St.  Boston  Boston   65.0\n",
       "3   1436513            Boston  Boston  Boston   75.0\n",
       "4   7651065    Durnell Avenue  Boston  Boston   79.0"
      ]
     },
     "execution_count": 352,
     "metadata": {},
     "output_type": "execute_result"
    }
   ],
   "source": [
    "#Since the street contains 0 Null Values, there is no need to drop any rows.\n",
    "df.head()"
   ]
  },
  {
   "cell_type": "code",
   "execution_count": 353,
   "id": "5c31d65b",
   "metadata": {},
   "outputs": [
    {
     "data": {
      "text/plain": [
       "<AxesSubplot:title={'center':'Most Expensive Streets'}, xlabel='Street', ylabel='Average Price'>"
      ]
     },
     "execution_count": 353,
     "metadata": {},
     "output_type": "execute_result"
    },
    {
     "data": {
      "image/png": "[encoded data removed]",
      "text/plain": [
       "<Figure size 432x288 with 1 Axes>"
      ]
     },
     "metadata": {
      "needs_background": "light"
     },
     "output_type": "display_data"
    }
   ],
   "source": [
    "#Top 10 Most Expensive Streets\n",
    "df[['street','price']].groupby('street').mean().sort_values('price',ascending=False).apply(np.floor).head(10).plot(kind='bar',xlabel='Street',ylabel='Average Price',title='Most Expensive Streets')"
   ]
  },
  {
   "cell_type": "markdown",
   "id": "ba22c9d4",
   "metadata": {},
   "source": [
    "**Question3: Which streets accomodates the most expensive AirBnb?**\n",
    "\n",
    "**CONCLUSION**:\n",
    "\n",
    "_From the Above Bar plot we can clearly see that the Boston Wharf Road followed by Congress Street & 8th Street are the most expensive ones_"
   ]
  },
  {
   "cell_type": "markdown",
   "id": "010b717d",
   "metadata": {},
   "source": [
    "# PREDICTIVE ANALYSIS"
   ]
  },
  {
   "cell_type": "code",
   "execution_count": 355,
   "id": "88487517",
   "metadata": {},
   "outputs": [
    {
     "data": {
      "text/plain": [
       "accommodates          0\n",
       "bedrooms             10\n",
       "bathrooms            14\n",
       "beds                  9\n",
       "minimum_nights        0\n",
       "maximum_nights        0\n",
       "number_of_reviews     0\n",
       "room_type             0\n",
       "bed_type              0\n",
       "guests_included       0\n",
       "price                 0\n",
       "dtype: int64"
      ]
     },
     "execution_count": 355,
     "metadata": {},
     "output_type": "execute_result"
    }
   ],
   "source": [
    "#Predicting the Price of AirBnb\n",
    "#Data Loading\n",
    "\n",
    "boston_listings=pd.read_csv('listings.csv')\n",
    "used_feature=['accommodates','bedrooms','bathrooms','beds','minimum_nights','maximum_nights','number_of_reviews','room_type','bed_type','guests_included','price']\n",
    "df_bl=boston_listings[used_feature]\n",
    "df_bl.isnull().sum()"
   ]
  },
  {
   "cell_type": "code",
   "execution_count": 356,
   "id": "e11568d9",
   "metadata": {},
   "outputs": [
    {
     "data": {
      "text/plain": [
       "accommodates         0\n",
       "bedrooms             0\n",
       "bathrooms            0\n",
       "beds                 0\n",
       "minimum_nights       0\n",
       "maximum_nights       0\n",
       "number_of_reviews    0\n",
       "room_type            0\n",
       "bed_type             0\n",
       "guests_included      0\n",
       "price                0\n",
       "dtype: int64"
      ]
     },
     "execution_count": 356,
     "metadata": {},
     "output_type": "execute_result"
    }
   ],
   "source": [
    "#Data CLeaning\n",
    "#Removing the missing values as the null count is very low\n",
    "df_bl=df_bl.dropna()\n",
    "df_bl.isnull().sum()"
   ]
  },
  {
   "cell_type": "code",
   "execution_count": 357,
   "id": "186ed821",
   "metadata": {},
   "outputs": [],
   "source": [
    "#Data Preprocessing\n",
    "#Removing the Dollar Sign & Typecasting the Price Column into Floating Type by calling the price_cleansing()\n",
    "df_bl=price_cleansing(df_bl,'price')"
   ]
  },
  {
   "cell_type": "code",
   "execution_count": 358,
   "id": "4a86908e",
   "metadata": {},
   "outputs": [
    {
     "data": {
      "text/html": [
       "<div>\n",
       "<style scoped>\n",
       "    .dataframe tbody tr th:only-of-type {\n",
       "        vertical-align: middle;\n",
       "    }\n",
       "\n",
       "    .dataframe tbody tr th {\n",
       "        vertical-align: top;\n",
       "    }\n",
       "\n",
       "    .dataframe thead th {\n",
       "        text-align: right;\n",
       "    }\n",
       "</style>\n",
       "<table border=\"1\" class=\"dataframe\">\n",
       "  <thead>\n",
       "    <tr style=\"text-align: right;\">\n",
       "      <th></th>\n",
       "      <th>accommodates</th>\n",
       "      <th>bedrooms</th>\n",
       "      <th>bathrooms</th>\n",
       "      <th>beds</th>\n",
       "      <th>minimum_nights</th>\n",
       "      <th>maximum_nights</th>\n",
       "      <th>number_of_reviews</th>\n",
       "      <th>room_type</th>\n",
       "      <th>bed_type</th>\n",
       "      <th>guests_included</th>\n",
       "      <th>price</th>\n",
       "    </tr>\n",
       "  </thead>\n",
       "  <tbody>\n",
       "    <tr>\n",
       "      <th>0</th>\n",
       "      <td>4</td>\n",
       "      <td>2.0</td>\n",
       "      <td>1.5</td>\n",
       "      <td>3.0</td>\n",
       "      <td>2</td>\n",
       "      <td>1125</td>\n",
       "      <td>0</td>\n",
       "      <td>Entire home/apt</td>\n",
       "      <td>Real Bed</td>\n",
       "      <td>1</td>\n",
       "      <td>250.0</td>\n",
       "    </tr>\n",
       "    <tr>\n",
       "      <th>1</th>\n",
       "      <td>2</td>\n",
       "      <td>1.0</td>\n",
       "      <td>1.0</td>\n",
       "      <td>1.0</td>\n",
       "      <td>2</td>\n",
       "      <td>15</td>\n",
       "      <td>36</td>\n",
       "      <td>Private room</td>\n",
       "      <td>Real Bed</td>\n",
       "      <td>0</td>\n",
       "      <td>65.0</td>\n",
       "    </tr>\n",
       "    <tr>\n",
       "      <th>2</th>\n",
       "      <td>2</td>\n",
       "      <td>1.0</td>\n",
       "      <td>1.0</td>\n",
       "      <td>1.0</td>\n",
       "      <td>3</td>\n",
       "      <td>45</td>\n",
       "      <td>41</td>\n",
       "      <td>Private room</td>\n",
       "      <td>Real Bed</td>\n",
       "      <td>1</td>\n",
       "      <td>65.0</td>\n",
       "    </tr>\n",
       "    <tr>\n",
       "      <th>3</th>\n",
       "      <td>4</td>\n",
       "      <td>1.0</td>\n",
       "      <td>1.0</td>\n",
       "      <td>2.0</td>\n",
       "      <td>1</td>\n",
       "      <td>1125</td>\n",
       "      <td>1</td>\n",
       "      <td>Private room</td>\n",
       "      <td>Real Bed</td>\n",
       "      <td>2</td>\n",
       "      <td>75.0</td>\n",
       "    </tr>\n",
       "    <tr>\n",
       "      <th>4</th>\n",
       "      <td>2</td>\n",
       "      <td>1.0</td>\n",
       "      <td>1.5</td>\n",
       "      <td>2.0</td>\n",
       "      <td>2</td>\n",
       "      <td>31</td>\n",
       "      <td>29</td>\n",
       "      <td>Private room</td>\n",
       "      <td>Real Bed</td>\n",
       "      <td>1</td>\n",
       "      <td>79.0</td>\n",
       "    </tr>\n",
       "  </tbody>\n",
       "</table>\n",
       "</div>"
      ],
      "text/plain": [
       "   accommodates  bedrooms  bathrooms  beds  minimum_nights  maximum_nights  \\\n",
       "0             4       2.0        1.5   3.0               2            1125   \n",
       "1             2       1.0        1.0   1.0               2              15   \n",
       "2             2       1.0        1.0   1.0               3              45   \n",
       "3             4       1.0        1.0   2.0               1            1125   \n",
       "4             2       1.0        1.5   2.0               2              31   \n",
       "\n",
       "   number_of_reviews        room_type  bed_type  guests_included  price  \n",
       "0                  0  Entire home/apt  Real Bed                1  250.0  \n",
       "1                 36     Private room  Real Bed                0   65.0  \n",
       "2                 41     Private room  Real Bed                1   65.0  \n",
       "3                  1     Private room  Real Bed                2   75.0  \n",
       "4                 29     Private room  Real Bed                1   79.0  "
      ]
     },
     "execution_count": 358,
     "metadata": {},
     "output_type": "execute_result"
    }
   ],
   "source": [
    "df_bl.head()"
   ]
  },
  {
   "cell_type": "code",
   "execution_count": 359,
   "id": "d0707e2f",
   "metadata": {},
   "outputs": [],
   "source": [
    "#Handling Categorical Variables using pandas get_dummies library\n",
    "# transform data\n",
    "df_bl = pd.get_dummies(df_bl)\n",
    "\n",
    "#Dividing the data into Training & Test Sets\n",
    "\n",
    "train , test = train_test_split(df_bl, test_size = 0.3)\n",
    "X_train = train.drop('price', axis=1)\n",
    "y_train = train['price']\n",
    "\n",
    "X_test = test.drop('price', axis = 1)\n",
    "y_test = test['price']\n",
    "\n",
    "#Creating a Scaler Object and Transforming the data\n",
    "scaler = preprocessing.StandardScaler().fit(X_train)\n",
    "X_train= pd.DataFrame(scaler.transform(X_train))\n",
    "X_test = pd.DataFrame(scaler.transform (X_test))"
   ]
  },
  {
   "cell_type": "code",
   "execution_count": 360,
   "id": "7bc654bd",
   "metadata": {},
   "outputs": [
    {
     "data": {
      "text/plain": [
       "accommodates                   int64\n",
       "bedrooms                     float64\n",
       "bathrooms                    float64\n",
       "beds                         float64\n",
       "minimum_nights                 int64\n",
       "maximum_nights                 int64\n",
       "number_of_reviews              int64\n",
       "guests_included                int64\n",
       "price                        float64\n",
       "room_type_Entire home/apt      uint8\n",
       "room_type_Private room         uint8\n",
       "room_type_Shared room          uint8\n",
       "bed_type_Airbed                uint8\n",
       "bed_type_Couch                 uint8\n",
       "bed_type_Futon                 uint8\n",
       "bed_type_Pull-out Sofa         uint8\n",
       "bed_type_Real Bed              uint8\n",
       "dtype: object"
      ]
     },
     "execution_count": 360,
     "metadata": {},
     "output_type": "execute_result"
    }
   ],
   "source": [
    "#Checking the datatypes\n",
    "df_bl.dtypes"
   ]
  },
  {
   "cell_type": "code",
   "execution_count": 361,
   "id": "2a5e9805",
   "metadata": {},
   "outputs": [],
   "source": [
    "#Function to Calculate the RMSE Values of a model\n",
    "def rmse_value(y_test,val_preds):\n",
    "    \"\"\"Returns the RMSE Values of a model\n",
    "    \n",
    "    Parameters:\n",
    "    y_test_val:  Response Variable Testing Data\n",
    "    val_preds: Response Variable Predicted Data (using X_test)\n",
    "    `\n",
    "    Returns:\n",
    "    rmse:Returns a floating data containing the rmse value\n",
    "    \n",
    "    \"\"\"\n",
    "    mse = mean_squared_error(y_test, val_preds)\n",
    "    rmse = mse ** (1/2)\n",
    "    \n",
    "    return rmse\n",
    "    "
   ]
  },
  {
   "cell_type": "code",
   "execution_count": 363,
   "id": "dc3de43c",
   "metadata": {},
   "outputs": [
    {
     "name": "stdout",
     "output_type": "stream",
     "text": [
      "Help on function rmse_value in module __main__:\n",
      "\n",
      "rmse_value(y_test, val_preds)\n",
      "    Returns the RMSE Values of a model\n",
      "    \n",
      "    Parameters:\n",
      "    y_test_val:  Response Variable Testing Data\n",
      "    val_preds: Response Variable Predicted Data (using X_test)\n",
      "    `\n",
      "    Returns:\n",
      "    rmse:Returns a floating data containing the rmse value\n",
      "\n"
     ]
    }
   ],
   "source": [
    "help(rmse_value)"
   ]
  },
  {
   "cell_type": "code",
   "execution_count": 364,
   "id": "19b77360",
   "metadata": {},
   "outputs": [
    {
     "name": "stdout",
     "output_type": "stream",
     "text": [
      "RMSE of Multi Linear Regression Model: 96.85966208529585\n"
     ]
    }
   ],
   "source": [
    "#MODEL NAME: MULTILINEAR REGRESSION\n",
    "# Create instance of the model, `LinearRegression` function from \n",
    "# Scikit-Learn and fit the model on the training data:\n",
    "\n",
    "reg = LinearRegression()  \n",
    "reg.fit(X_train, y_train) #training the algorithm\n",
    "\n",
    "# Now that the model has been fit we can make predictions by calling \n",
    "# the predict command. We are making predictions on the testing set:\n",
    "\n",
    "training_preds_reg = reg.predict(X_train)\n",
    "val_preds_reg = reg.predict(X_test)\n",
    "\n",
    "\n",
    "# Check the predictions against the actual values by using the MSE:\n",
    "#Calling the RMSE_VALUE() \n",
    "print('RMSE of Multi Linear Regression Model:',rmse_value(y_test,val_preds_reg))"
   ]
  },
  {
   "cell_type": "code",
   "execution_count": 366,
   "id": "27486042",
   "metadata": {},
   "outputs": [
    {
     "name": "stdout",
     "output_type": "stream",
     "text": [
      "RMSE of RMSE of RandomForest Regressor Model: 106.93331587322709\n"
     ]
    }
   ],
   "source": [
    "#MODEL NAME: RANDOMFOREST\n",
    "rf = RandomForestRegressor(n_estimators=20, n_jobs=-1)\n",
    "rf.fit(X_train, y_train)\n",
    "\n",
    "training_preds_rf = rf.predict(X_train)\n",
    "val_preds_rf = rf.predict(X_test)\n",
    "\n",
    "\n",
    "# Check the predictions against the actual values by using the MSE metrics:\n",
    "print('RMSE of RMSE of RandomForest Regressor Model:',rmse_value(y_test,val_preds_rf))"
   ]
  },
  {
   "cell_type": "code",
   "execution_count": 367,
   "id": "3b753fa2",
   "metadata": {},
   "outputs": [
    {
     "name": "stdout",
     "output_type": "stream",
     "text": [
      "RMSE of KNN Model: 100.50920225445884\n"
     ]
    }
   ],
   "source": [
    "#MODEL NAME: KNN\n",
    "knn = KNeighborsRegressor(algorithm='brute')\n",
    "knn.fit(X_train, y_train)\n",
    "\n",
    "training_preds_knn = knn.predict(X_train)\n",
    "val_preds_knn = knn.predict(X_test)\n",
    "        \n",
    "# Check the predictions against the actual values by using the MSE metrics:\n",
    "print('RMSE of KNN Model:',rmse_value(y_test,val_preds_knn))"
   ]
  },
  {
   "cell_type": "markdown",
   "id": "daf03ef9",
   "metadata": {},
   "source": [
    "**Conclusion**\n",
    "\n",
    "_Out of three models (multilinear Regression, Random Forest and KNN Regressor), the rmse value of Multi Linear Regression model is low. However the value is quite high, this model needs to be optimized further._"
   ]
  }
 ],
 "metadata": {
  "kernelspec": {
   "display_name": "Python 3",
   "language": "python",
   "name": "python3"
  },
  "language_info": {
   "codemirror_mode": {
    "name": "ipython",
    "version": 3
   },
   "file_extension": ".py",
   "mimetype": "text/x-python",
   "name": "python",
   "nbconvert_exporter": "python",
   "pygments_lexer": "ipython3",
   "version": "3.8.8"
  }
 },
 "nbformat": 4,
 "nbformat_minor": 5
}
